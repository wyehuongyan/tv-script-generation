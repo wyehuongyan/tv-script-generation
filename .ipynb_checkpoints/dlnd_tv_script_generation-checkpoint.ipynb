{
 "cells": [
  {
   "cell_type": "markdown",
   "metadata": {
    "deletable": true,
    "editable": true
   },
   "source": [
    "# TV Script Generation\n",
    "In this project, you'll generate your own [Simpsons](https://en.wikipedia.org/wiki/The_Simpsons) TV scripts using RNNs.  You'll be using part of the [Simpsons dataset](https://www.kaggle.com/wcukierski/the-simpsons-by-the-data) of scripts from 27 seasons.  The Neural Network you'll build will generate a new TV script for a scene at [Moe's Tavern](https://simpsonswiki.com/wiki/Moe's_Tavern).\n",
    "## Get the Data\n",
    "The data is already provided for you.  You'll be using a subset of the original dataset.  It consists of only the scenes in Moe's Tavern.  This doesn't include other versions of the tavern, like \"Moe's Cavern\", \"Flaming Moe's\", \"Uncle Moe's Family Feed-Bag\", etc.."
   ]
  },
  {
   "cell_type": "code",
   "execution_count": 12,
   "metadata": {
    "collapsed": false,
    "deletable": true,
    "editable": true
   },
   "outputs": [],
   "source": [
    "\"\"\"\n",
    "DON'T MODIFY ANYTHING IN THIS CELL\n",
    "\"\"\"\n",
    "import helper\n",
    "\n",
    "data_dir = './data/simpsons/moes_tavern_lines.txt'\n",
    "text = helper.load_data(data_dir)\n",
    "# Ignore notice, since we don't use it for analysing the data\n",
    "text = text[81:]"
   ]
  },
  {
   "cell_type": "markdown",
   "metadata": {
    "deletable": true,
    "editable": true
   },
   "source": [
    "## Explore the Data\n",
    "Play around with `view_sentence_range` to view different parts of the data."
   ]
  },
  {
   "cell_type": "code",
   "execution_count": 13,
   "metadata": {
    "collapsed": false,
    "deletable": true,
    "editable": true
   },
   "outputs": [
    {
     "name": "stdout",
     "output_type": "stream",
     "text": [
      "Dataset Stats\n",
      "Roughly the number of unique words: 11492\n",
      "Number of scenes: 262\n",
      "Average number of sentences in each scene: 15.248091603053435\n",
      "Number of lines: 4257\n",
      "Average number of words in each line: 11.50434578341555\n",
      "\n",
      "The sentences 0 to 10:\n",
      "Moe_Szyslak: (INTO PHONE) Moe's Tavern. Where the elite meet to drink.\n",
      "Bart_Simpson: Eh, yeah, hello, is Mike there? Last name, Rotch.\n",
      "Moe_Szyslak: (INTO PHONE) Hold on, I'll check. (TO BARFLIES) Mike Rotch. Mike Rotch. Hey, has anybody seen Mike Rotch, lately?\n",
      "Moe_Szyslak: (INTO PHONE) Listen you little puke. One of these days I'm gonna catch you, and I'm gonna carve my name on your back with an ice pick.\n",
      "Moe_Szyslak: What's the matter Homer? You're not your normal effervescent self.\n",
      "Homer_Simpson: I got my problems, Moe. Give me another one.\n",
      "Moe_Szyslak: Homer, hey, you should not drink to forget your problems.\n",
      "Barney_Gumble: Yeah, you should only drink to enhance your social skills.\n",
      "\n",
      "\n"
     ]
    }
   ],
   "source": [
    "view_sentence_range = (0, 10)\n",
    "\n",
    "\"\"\"\n",
    "DON'T MODIFY ANYTHING IN THIS CELL\n",
    "\"\"\"\n",
    "import numpy as np\n",
    "\n",
    "print('Dataset Stats')\n",
    "print('Roughly the number of unique words: {}'.format(len({word: None for word in text.split()})))\n",
    "scenes = text.split('\\n\\n')\n",
    "print('Number of scenes: {}'.format(len(scenes)))\n",
    "sentence_count_scene = [scene.count('\\n') for scene in scenes]\n",
    "print('Average number of sentences in each scene: {}'.format(np.average(sentence_count_scene)))\n",
    "\n",
    "sentences = [sentence for scene in scenes for sentence in scene.split('\\n')]\n",
    "print('Number of lines: {}'.format(len(sentences)))\n",
    "word_count_sentence = [len(sentence.split()) for sentence in sentences]\n",
    "print('Average number of words in each line: {}'.format(np.average(word_count_sentence)))\n",
    "\n",
    "print()\n",
    "print('The sentences {} to {}:'.format(*view_sentence_range))\n",
    "print('\\n'.join(text.split('\\n')[view_sentence_range[0]:view_sentence_range[1]]))"
   ]
  },
  {
   "cell_type": "markdown",
   "metadata": {
    "deletable": true,
    "editable": true
   },
   "source": [
    "## Implement Preprocessing Functions\n",
    "The first thing to do to any dataset is preprocessing.  Implement the following preprocessing functions below:\n",
    "- Lookup Table\n",
    "- Tokenize Punctuation\n",
    "\n",
    "### Lookup Table\n",
    "To create a word embedding, you first need to transform the words to ids.  In this function, create two dictionaries:\n",
    "- Dictionary to go from the words to an id, we'll call `vocab_to_int`\n",
    "- Dictionary to go from the id to word, we'll call `int_to_vocab`\n",
    "\n",
    "Return these dictionaries in the following tuple `(vocab_to_int, int_to_vocab)`"
   ]
  },
  {
   "cell_type": "code",
   "execution_count": 14,
   "metadata": {
    "collapsed": false,
    "deletable": true,
    "editable": true
   },
   "outputs": [
    {
     "name": "stdout",
     "output_type": "stream",
     "text": [
      "Tests Passed\n"
     ]
    }
   ],
   "source": [
    "import numpy as np\n",
    "import problem_unittests as tests\n",
    "from collections import Counter\n",
    "\n",
    "def create_lookup_tables(text):\n",
    "    \"\"\"\n",
    "    Create lookup tables for vocabulary\n",
    "    :param text: The text of tv scripts split into words\n",
    "    :return: A tuple of dicts (vocab_to_int, int_to_vocab)\n",
    "    \"\"\"\n",
    "    # TODO: Implement Function\n",
    "    counts = Counter(text)\n",
    "    vocab = sorted(counts, key=counts.get, reverse=True)\n",
    "    vocab_to_int = { word: ii for ii, word in enumerate(vocab)}\n",
    "    int_to_vocab = { ii: word for ii, word in enumerate(vocab)}\n",
    "    \n",
    "    return (vocab_to_int, int_to_vocab)\n",
    "\n",
    "\n",
    "\"\"\"\n",
    "DON'T MODIFY ANYTHING IN THIS CELL THAT IS BELOW THIS LINE\n",
    "\"\"\"\n",
    "tests.test_create_lookup_tables(create_lookup_tables)"
   ]
  },
  {
   "cell_type": "markdown",
   "metadata": {
    "deletable": true,
    "editable": true
   },
   "source": [
    "### Tokenize Punctuation\n",
    "We'll be splitting the script into a word array using spaces as delimiters.  However, punctuations like periods and exclamation marks make it hard for the neural network to distinguish between the word \"bye\" and \"bye!\".\n",
    "\n",
    "Implement the function `token_lookup` to return a dict that will be used to tokenize symbols like \"!\" into \"||Exclamation_Mark||\".  Create a dictionary for the following symbols where the symbol is the key and value is the token:\n",
    "- Period ( . )\n",
    "- Comma ( , )\n",
    "- Quotation Mark ( \" )\n",
    "- Semicolon ( ; )\n",
    "- Exclamation mark ( ! )\n",
    "- Question mark ( ? )\n",
    "- Left Parentheses ( ( )\n",
    "- Right Parentheses ( ) )\n",
    "- Dash ( -- )\n",
    "- Return ( \\n )\n",
    "\n",
    "This dictionary will be used to token the symbols and add the delimiter (space) around it.  This separates the symbols as it's own word, making it easier for the neural network to predict on the next word. Make sure you don't use a token that could be confused as a word. Instead of using the token \"dash\", try using something like \"||dash||\"."
   ]
  },
  {
   "cell_type": "code",
   "execution_count": 15,
   "metadata": {
    "collapsed": false,
    "deletable": true,
    "editable": true
   },
   "outputs": [
    {
     "name": "stdout",
     "output_type": "stream",
     "text": [
      "Tests Passed\n"
     ]
    }
   ],
   "source": [
    "def token_lookup():\n",
    "    \"\"\"\n",
    "    Generate a dict to turn punctuation into a token.\n",
    "    :return: Tokenize dictionary where the key is the punctuation and the value is the token\n",
    "    \"\"\"\n",
    "    # TODO: Implement Function\n",
    "    \n",
    "    return {\n",
    "        \".\": \"||Period||\",\n",
    "        \",\": \"||Comma||\",\n",
    "        '\"': \"||Quotation_Mark||\",\n",
    "        \";\": \"||Semicolon||\",\n",
    "        \"!\": \"||Exclamation_Mark||\",\n",
    "        \"?\": \"||Question_Mark\",\n",
    "        \"(\": \"||Left_Parentheses||\",\n",
    "        \")\": \"||Right_Parentheses||\",\n",
    "        \"--\": \"||Dash||\",\n",
    "        \"\\n\": \"||Return||\"\n",
    "    }\n",
    "\n",
    "\"\"\"\n",
    "DON'T MODIFY ANYTHING IN THIS CELL THAT IS BELOW THIS LINE\n",
    "\"\"\"\n",
    "tests.test_tokenize(token_lookup)"
   ]
  },
  {
   "cell_type": "markdown",
   "metadata": {
    "deletable": true,
    "editable": true
   },
   "source": [
    "## Preprocess all the data and save it\n",
    "Running the code cell below will preprocess all the data and save it to file."
   ]
  },
  {
   "cell_type": "code",
   "execution_count": 16,
   "metadata": {
    "collapsed": false,
    "deletable": true,
    "editable": true
   },
   "outputs": [],
   "source": [
    "\"\"\"\n",
    "DON'T MODIFY ANYTHING IN THIS CELL\n",
    "\"\"\"\n",
    "# Preprocess Training, Validation, and Testing Data\n",
    "helper.preprocess_and_save_data(data_dir, token_lookup, create_lookup_tables)"
   ]
  },
  {
   "cell_type": "markdown",
   "metadata": {
    "deletable": true,
    "editable": true
   },
   "source": [
    "# Check Point\n",
    "This is your first checkpoint. If you ever decide to come back to this notebook or have to restart the notebook, you can start from here. The preprocessed data has been saved to disk."
   ]
  },
  {
   "cell_type": "code",
   "execution_count": 17,
   "metadata": {
    "collapsed": false,
    "deletable": true,
    "editable": true
   },
   "outputs": [],
   "source": [
    "\"\"\"\n",
    "DON'T MODIFY ANYTHING IN THIS CELL\n",
    "\"\"\"\n",
    "import helper\n",
    "import numpy as np\n",
    "import problem_unittests as tests\n",
    "\n",
    "int_text, vocab_to_int, int_to_vocab, token_dict = helper.load_preprocess()"
   ]
  },
  {
   "cell_type": "markdown",
   "metadata": {
    "deletable": true,
    "editable": true
   },
   "source": [
    "## Build the Neural Network\n",
    "You'll build the components necessary to build a RNN by implementing the following functions below:\n",
    "- get_inputs\n",
    "- get_init_cell\n",
    "- get_embed\n",
    "- build_rnn\n",
    "- build_nn\n",
    "- get_batches\n",
    "\n",
    "### Check the Version of TensorFlow and Access to GPU"
   ]
  },
  {
   "cell_type": "code",
   "execution_count": 18,
   "metadata": {
    "collapsed": false,
    "deletable": true,
    "editable": true
   },
   "outputs": [
    {
     "name": "stdout",
     "output_type": "stream",
     "text": [
      "TensorFlow Version: 1.0.0\n",
      "Default GPU Device: /gpu:0\n"
     ]
    }
   ],
   "source": [
    "\"\"\"\n",
    "DON'T MODIFY ANYTHING IN THIS CELL\n",
    "\"\"\"\n",
    "from distutils.version import LooseVersion\n",
    "import warnings\n",
    "import tensorflow as tf\n",
    "\n",
    "# Check TensorFlow Version\n",
    "assert LooseVersion(tf.__version__) >= LooseVersion('1.0'), 'Please use TensorFlow version 1.0 or newer'\n",
    "print('TensorFlow Version: {}'.format(tf.__version__))\n",
    "\n",
    "# Check for a GPU\n",
    "if not tf.test.gpu_device_name():\n",
    "    warnings.warn('No GPU found. Please use a GPU to train your neural network.')\n",
    "else:\n",
    "    print('Default GPU Device: {}'.format(tf.test.gpu_device_name()))"
   ]
  },
  {
   "cell_type": "markdown",
   "metadata": {
    "deletable": true,
    "editable": true
   },
   "source": [
    "### Input\n",
    "Implement the `get_inputs()` function to create TF Placeholders for the Neural Network.  It should create the following placeholders:\n",
    "- Input text placeholder named \"input\" using the [TF Placeholder](https://www.tensorflow.org/api_docs/python/tf/placeholder) `name` parameter.\n",
    "- Targets placeholder\n",
    "- Learning Rate placeholder\n",
    "\n",
    "Return the placeholders in the following the tuple `(Input, Targets, LearingRate)`"
   ]
  },
  {
   "cell_type": "code",
   "execution_count": 19,
   "metadata": {
    "collapsed": false,
    "deletable": true,
    "editable": true
   },
   "outputs": [
    {
     "name": "stdout",
     "output_type": "stream",
     "text": [
      "Tests Passed\n"
     ]
    }
   ],
   "source": [
    "def get_inputs():\n",
    "    \"\"\"\n",
    "    Create TF Placeholders for input, targets, and learning rate.\n",
    "    :return: Tuple (input, targets, learning rate)\n",
    "    \"\"\"\n",
    "    # TODO: Implement Function\n",
    "    input = tf.placeholder(tf.int32, (None, None), name=\"input\")\n",
    "    targets = tf.placeholder(tf.int32, (None, None), name=\"targets\")\n",
    "    learning_rate = tf.placeholder(tf.float32, None, name=\"learning_rate\")\n",
    "    return input, targets, learning_rate\n",
    "\n",
    "\n",
    "\"\"\"\n",
    "DON'T MODIFY ANYTHING IN THIS CELL THAT IS BELOW THIS LINE\n",
    "\"\"\"\n",
    "tests.test_get_inputs(get_inputs)"
   ]
  },
  {
   "cell_type": "markdown",
   "metadata": {
    "deletable": true,
    "editable": true
   },
   "source": [
    "### Build RNN Cell and Initialize\n",
    "Stack one or more [`BasicLSTMCells`](https://www.tensorflow.org/api_docs/python/tf/contrib/rnn/BasicLSTMCell) in a [`MultiRNNCell`](https://www.tensorflow.org/api_docs/python/tf/contrib/rnn/MultiRNNCell).\n",
    "- The Rnn size should be set using `rnn_size`\n",
    "- Initalize Cell State using the MultiRNNCell's [`zero_state()`](https://www.tensorflow.org/api_docs/python/tf/contrib/rnn/MultiRNNCell#zero_state) function\n",
    "    - Apply the name \"initial_state\" to the initial state using [`tf.identity()`](https://www.tensorflow.org/api_docs/python/tf/identity)\n",
    "\n",
    "Return the cell and initial state in the following tuple `(Cell, InitialState)`"
   ]
  },
  {
   "cell_type": "code",
   "execution_count": 51,
   "metadata": {
    "collapsed": false,
    "deletable": true,
    "editable": true
   },
   "outputs": [
    {
     "name": "stdout",
     "output_type": "stream",
     "text": [
      "Tests Passed\n"
     ]
    }
   ],
   "source": [
    "def get_init_cell(batch_size, rnn_size):\n",
    "    \"\"\"\n",
    "    Create an RNN Cell and initialize it.\n",
    "    :param batch_size: Size of batches\n",
    "    :param rnn_size: Size of RNNs\n",
    "    :return: Tuple (cell, initialize state)\n",
    "    \"\"\"\n",
    "    #num_layers = 10\n",
    "    keep_prob = 0.8\n",
    "    \n",
    "    # TODO: Implement Function\n",
    "    lstm = tf.contrib.rnn.BasicLSTMCell(rnn_size)\n",
    "    drop = tf.contrib.rnn.DropoutWrapper(lstm, output_keep_prob=keep_prob)\n",
    "    lstm = tf.contrib.rnn.MultiRNNCell([drop])\n",
    "    x = lstm.zero_state(batch_size, tf.float32)\n",
    "    initial_state=tf.identity(x, name='initial_state')\n",
    "\n",
    "    return lstm, initial_state\n",
    "\n",
    "\n",
    "\"\"\"\n",
    "DON'T MODIFY ANYTHING IN THIS CELL THAT IS BELOW THIS LINE\n",
    "\"\"\"\n",
    "tests.test_get_init_cell(get_init_cell)"
   ]
  },
  {
   "cell_type": "markdown",
   "metadata": {
    "deletable": true,
    "editable": true
   },
   "source": [
    "### Word Embedding\n",
    "Apply embedding to `input_data` using TensorFlow.  Return the embedded sequence."
   ]
  },
  {
   "cell_type": "code",
   "execution_count": 52,
   "metadata": {
    "collapsed": false,
    "deletable": true,
    "editable": true
   },
   "outputs": [
    {
     "name": "stdout",
     "output_type": "stream",
     "text": [
      "Tests Passed\n"
     ]
    }
   ],
   "source": [
    "def get_embed(input_data, vocab_size, embed_dim):\n",
    "    \"\"\"\n",
    "    Create embedding for <input_data>.\n",
    "    :param input_data: TF placeholder for text input.\n",
    "    :param vocab_size: Number of words in vocabulary.\n",
    "    :param embed_dim: Number of embedding dimensions\n",
    "    :return: Embedded input.\n",
    "    \"\"\"\n",
    "    # TODO: Implement Function\n",
    "    embedding = tf.Variable(tf.random_uniform((vocab_size, embed_dim)))\n",
    "    embed = tf.nn.embedding_lookup(embedding, input_data)\n",
    "    return embed\n",
    "\n",
    "\n",
    "\"\"\"\n",
    "DON'T MODIFY ANYTHING IN THIS CELL THAT IS BELOW THIS LINE\n",
    "\"\"\"\n",
    "tests.test_get_embed(get_embed)"
   ]
  },
  {
   "cell_type": "markdown",
   "metadata": {
    "deletable": true,
    "editable": true
   },
   "source": [
    "### Build RNN\n",
    "You created a RNN Cell in the `get_init_cell()` function.  Time to use the cell to create a RNN.\n",
    "- Build the RNN using the [`tf.nn.dynamic_rnn()`](https://www.tensorflow.org/api_docs/python/tf/nn/dynamic_rnn)\n",
    " - Apply the name \"final_state\" to the final state using [`tf.identity()`](https://www.tensorflow.org/api_docs/python/tf/identity)\n",
    "\n",
    "Return the outputs and final_state state in the following tuple `(Outputs, FinalState)` "
   ]
  },
  {
   "cell_type": "code",
   "execution_count": 53,
   "metadata": {
    "collapsed": false,
    "deletable": true,
    "editable": true
   },
   "outputs": [
    {
     "name": "stdout",
     "output_type": "stream",
     "text": [
      "Tests Passed\n"
     ]
    }
   ],
   "source": [
    "def build_rnn(cell, inputs):\n",
    "    \"\"\"\n",
    "    Create a RNN using a RNN Cell\n",
    "    :param cell: RNN Cell\n",
    "    :param inputs: Input text data\n",
    "    :return: Tuple (Outputs, Final State)\n",
    "    \"\"\"\n",
    "    outputs, final_state = tf.nn.dynamic_rnn(cell, inputs, dtype=tf.float32)\n",
    "    final_state = tf.identity(final_state, name=\"final_state\")\n",
    "    \n",
    "    return outputs, final_state\n",
    "\n",
    "\n",
    "\"\"\"\n",
    "DON'T MODIFY ANYTHING IN THIS CELL THAT IS BELOW THIS LINE\n",
    "\"\"\"\n",
    "tests.test_build_rnn(build_rnn)"
   ]
  },
  {
   "cell_type": "markdown",
   "metadata": {
    "deletable": true,
    "editable": true
   },
   "source": [
    "### Build the Neural Network\n",
    "Apply the functions you implemented above to:\n",
    "- Apply embedding to `input_data` using your `get_embed(input_data, vocab_size, embed_dim)` function.\n",
    "- Build RNN using `cell` and your `build_rnn(cell, inputs)` function.\n",
    "- Apply a fully connected layer with a linear activation and `vocab_size` as the number of outputs.\n",
    "\n",
    "Return the logits and final state in the following tuple (Logits, FinalState) "
   ]
  },
  {
   "cell_type": "code",
   "execution_count": 74,
   "metadata": {
    "collapsed": false,
    "deletable": true,
    "editable": true
   },
   "outputs": [
    {
     "name": "stdout",
     "output_type": "stream",
     "text": [
      "Tests Passed\n"
     ]
    }
   ],
   "source": [
    "def build_nn(cell, rnn_size, input_data, vocab_size):\n",
    "    \"\"\"\n",
    "    Build part of the neural network\n",
    "    :param cell: RNN cell\n",
    "    :param rnn_size: Size of rnns\n",
    "    :param input_data: Input data\n",
    "    :param vocab_size: Vocabulary size\n",
    "    :return: Tuple (Logits, FinalState)\n",
    "    \"\"\"\n",
    "    embedded = get_embed(input_data=input_data, \n",
    "                         vocab_size=vocab_size, \n",
    "                         embed_dim=200)\n",
    "    \n",
    "    outputs, final_state = build_rnn(cell=cell, inputs=embedded)\n",
    "\n",
    "    logits = tf.contrib.layers.fully_connected(outputs, vocab_size, weights_initializer = tf.truncated_normal_initializer(stddev = 0.01), activation_fn=None)\n",
    "    \n",
    "    return logits, final_state\n",
    "\n",
    "\n",
    "\"\"\"\n",
    "DON'T MODIFY ANYTHING IN THIS CELL THAT IS BELOW THIS LINE\n",
    "\"\"\"\n",
    "tests.test_build_nn(build_nn)"
   ]
  },
  {
   "cell_type": "markdown",
   "metadata": {
    "deletable": true,
    "editable": true
   },
   "source": [
    "### Batches\n",
    "Implement `get_batches` to create batches of input and targets using `int_text`.  The batches should be a Numpy array with the shape `(number of batches, 2, batch size, sequence length)`. Each batch contains two elements:\n",
    "- The first element is a single batch of **input** with the shape `[batch size, sequence length]`\n",
    "- The second element is a single batch of **targets** with the shape `[batch size, sequence length]`\n",
    "\n",
    "If you can't fill the last batch with enough data, drop the last batch.\n",
    "\n",
    "For exmple, `get_batches([1, 2, 3, 4, 5, 6, 7, 8, 9, 10, 11, 12, 13, 14, 15], 2, 3)` would return a Numpy array of the following:\n",
    "```\n",
    "[\n",
    "  # First Batch\n",
    "  [\n",
    "    # Batch of Input\n",
    "    [[ 1  2  3], [ 7  8  9]],\n",
    "    # Batch of targets\n",
    "    [[ 2  3  4], [ 8  9 10]]\n",
    "  ],\n",
    " \n",
    "  # Second Batch\n",
    "  [\n",
    "    # Batch of Input\n",
    "    [[ 4  5  6], [10 11 12]],\n",
    "    # Batch of targets\n",
    "    [[ 5  6  7], [11 12 13]]\n",
    "  ]\n",
    "]\n",
    "```"
   ]
  },
  {
   "cell_type": "code",
   "execution_count": 55,
   "metadata": {
    "collapsed": false,
    "deletable": true,
    "editable": true
   },
   "outputs": [
    {
     "name": "stdout",
     "output_type": "stream",
     "text": [
      "Tests Passed\n"
     ]
    }
   ],
   "source": [
    "def get_batches(int_text, batch_size, seq_length):\n",
    "    \"\"\"\n",
    "    Return batches of input and target\n",
    "    :param int_text: Text with the words replaced by their ids\n",
    "    :param batch_size: The size of batch\n",
    "    :param seq_length: The length of sequence\n",
    "    :return: Batches as a Numpy array\n",
    "    \"\"\"\n",
    "    n_batches = len(int_text)//(batch_size*seq_length)\n",
    "\n",
    "    # only full batches\n",
    "    int_text = int_text[:n_batches*batch_size*seq_length+1]\n",
    "\n",
    "    # Initialize result & calculate skip distance\n",
    "    result=np.ndarray(shape=(n_batches,2,batch_size,seq_length), dtype=int)\n",
    "    skipdistance = n_batches*seq_length    \n",
    "\n",
    "    # First loop steps at batch_size * seq_length\n",
    "    for b in range(n_batches):\n",
    "        batch_idx = b*seq_length\n",
    "        x , y= [], []\n",
    "        for bb in range(batch_size):\n",
    "            idx = batch_idx + (bb*skipdistance) # get starting index for batch\n",
    "            x_idx = idx\n",
    "            y_idx = idx+1          \n",
    "            result[b][0][bb] = int_text[x_idx:x_idx+seq_length]\n",
    "            result[b][1][bb] = int_text[y_idx:y_idx+seq_length]                   \n",
    "    return result\n",
    "\n",
    "\n",
    "\"\"\"\n",
    "DON'T MODIFY ANYTHING IN THIS CELL THAT IS BELOW THIS LINE\n",
    "\"\"\"\n",
    "tests.test_get_batches(get_batches)"
   ]
  },
  {
   "cell_type": "markdown",
   "metadata": {
    "deletable": true,
    "editable": true
   },
   "source": [
    "## Neural Network Training\n",
    "### Hyperparameters\n",
    "Tune the following parameters:\n",
    "\n",
    "- Set `num_epochs` to the number of epochs.\n",
    "- Set `batch_size` to the batch size.\n",
    "- Set `rnn_size` to the size of the RNNs.\n",
    "- Set `seq_length` to the length of sequence.\n",
    "- Set `learning_rate` to the learning rate.\n",
    "- Set `show_every_n_batches` to the number of batches the neural network should print progress."
   ]
  },
  {
   "cell_type": "code",
   "execution_count": 64,
   "metadata": {
    "collapsed": true,
    "deletable": true,
    "editable": true
   },
   "outputs": [],
   "source": [
    "# Number of Epochs\n",
    "num_epochs = 100\n",
    "# Batch Size\n",
    "batch_size = 100\n",
    "# RNN Size\n",
    "rnn_size = 1000\n",
    "# Sequence Length\n",
    "seq_length = 15\n",
    "# Learning Rate\n",
    "learning_rate = 0.01\n",
    "# Show stats for every n number of batches\n",
    "show_every_n_batches = 10\n",
    "\n",
    "\"\"\"\n",
    "DON'T MODIFY ANYTHING IN THIS CELL THAT IS BELOW THIS LINE\n",
    "\"\"\"\n",
    "save_dir = './save'"
   ]
  },
  {
   "cell_type": "markdown",
   "metadata": {
    "deletable": true,
    "editable": true
   },
   "source": [
    "### Build the Graph\n",
    "Build the graph using the neural network you implemented."
   ]
  },
  {
   "cell_type": "code",
   "execution_count": 65,
   "metadata": {
    "collapsed": false,
    "deletable": true,
    "editable": true
   },
   "outputs": [],
   "source": [
    "\"\"\"\n",
    "DON'T MODIFY ANYTHING IN THIS CELL\n",
    "\"\"\"\n",
    "from tensorflow.contrib import seq2seq\n",
    "\n",
    "train_graph = tf.Graph()\n",
    "with train_graph.as_default():\n",
    "    vocab_size = len(int_to_vocab)\n",
    "    input_text, targets, lr = get_inputs()\n",
    "    input_data_shape = tf.shape(input_text)\n",
    "    cell, initial_state = get_init_cell(input_data_shape[0], rnn_size)\n",
    "    logits, final_state = build_nn(cell, rnn_size, input_text, vocab_size)\n",
    "\n",
    "    # Probabilities for generating words\n",
    "    probs = tf.nn.softmax(logits, name='probs')\n",
    "\n",
    "    # Loss function\n",
    "    cost = seq2seq.sequence_loss(\n",
    "        logits,\n",
    "        targets,\n",
    "        tf.ones([input_data_shape[0], input_data_shape[1]]))\n",
    "\n",
    "    # Optimizer\n",
    "    optimizer = tf.train.AdamOptimizer(lr)\n",
    "\n",
    "    # Gradient Clipping\n",
    "    gradients = optimizer.compute_gradients(cost)\n",
    "    capped_gradients = [(tf.clip_by_value(grad, -1., 1.), var) for grad, var in gradients]\n",
    "    train_op = optimizer.apply_gradients(capped_gradients)"
   ]
  },
  {
   "cell_type": "markdown",
   "metadata": {
    "deletable": true,
    "editable": true
   },
   "source": [
    "## Train\n",
    "Train the neural network on the preprocessed data.  If you have a hard time getting a good loss, check the [forms](https://discussions.udacity.com/) to see if anyone is having the same problem."
   ]
  },
  {
   "cell_type": "code",
   "execution_count": 66,
   "metadata": {
    "collapsed": false,
    "deletable": true,
    "editable": true
   },
   "outputs": [
    {
     "name": "stdout",
     "output_type": "stream",
     "text": [
      "Epoch   0 Batch    0/46   train_loss = 8.823\n",
      "Epoch   0 Batch   10/46   train_loss = 7.891\n",
      "Epoch   0 Batch   20/46   train_loss = 6.337\n",
      "Epoch   0 Batch   30/46   train_loss = 6.403\n",
      "Epoch   0 Batch   40/46   train_loss = 6.433\n",
      "Epoch   1 Batch    4/46   train_loss = 6.146\n",
      "Epoch   1 Batch   14/46   train_loss = 6.178\n",
      "Epoch   1 Batch   24/46   train_loss = 6.131\n",
      "Epoch   1 Batch   34/46   train_loss = 5.936\n",
      "Epoch   1 Batch   44/46   train_loss = 5.912\n",
      "Epoch   2 Batch    8/46   train_loss = 5.722\n",
      "Epoch   2 Batch   18/46   train_loss = 5.704\n",
      "Epoch   2 Batch   28/46   train_loss = 5.572\n",
      "Epoch   2 Batch   38/46   train_loss = 5.727\n",
      "Epoch   3 Batch    2/46   train_loss = 5.511\n",
      "Epoch   3 Batch   12/46   train_loss = 5.529\n",
      "Epoch   3 Batch   22/46   train_loss = 5.682\n",
      "Epoch   3 Batch   32/46   train_loss = 5.686\n",
      "Epoch   3 Batch   42/46   train_loss = 5.404\n",
      "Epoch   4 Batch    6/46   train_loss = 5.491\n",
      "Epoch   4 Batch   16/46   train_loss = 5.310\n",
      "Epoch   4 Batch   26/46   train_loss = 5.387\n",
      "Epoch   4 Batch   36/46   train_loss = 5.338\n",
      "Epoch   5 Batch    0/46   train_loss = 5.216\n",
      "Epoch   5 Batch   10/46   train_loss = 5.395\n",
      "Epoch   5 Batch   20/46   train_loss = 5.305\n",
      "Epoch   5 Batch   30/46   train_loss = 5.349\n",
      "Epoch   5 Batch   40/46   train_loss = 5.418\n",
      "Epoch   6 Batch    4/46   train_loss = 5.193\n",
      "Epoch   6 Batch   14/46   train_loss = 5.358\n",
      "Epoch   6 Batch   24/46   train_loss = 5.364\n",
      "Epoch   6 Batch   34/46   train_loss = 5.137\n",
      "Epoch   6 Batch   44/46   train_loss = 5.234\n",
      "Epoch   7 Batch    8/46   train_loss = 5.155\n",
      "Epoch   7 Batch   18/46   train_loss = 5.059\n",
      "Epoch   7 Batch   28/46   train_loss = 4.874\n",
      "Epoch   7 Batch   38/46   train_loss = 5.053\n",
      "Epoch   8 Batch    2/46   train_loss = 4.949\n",
      "Epoch   8 Batch   12/46   train_loss = 4.987\n",
      "Epoch   8 Batch   22/46   train_loss = 5.116\n",
      "Epoch   8 Batch   32/46   train_loss = 5.071\n",
      "Epoch   8 Batch   42/46   train_loss = 4.826\n",
      "Epoch   9 Batch    6/46   train_loss = 5.034\n",
      "Epoch   9 Batch   16/46   train_loss = 4.974\n",
      "Epoch   9 Batch   26/46   train_loss = 4.916\n",
      "Epoch   9 Batch   36/46   train_loss = 4.800\n",
      "Epoch  10 Batch    0/46   train_loss = 4.776\n",
      "Epoch  10 Batch   10/46   train_loss = 4.903\n",
      "Epoch  10 Batch   20/46   train_loss = 4.905\n",
      "Epoch  10 Batch   30/46   train_loss = 4.868\n",
      "Epoch  10 Batch   40/46   train_loss = 4.860\n",
      "Epoch  11 Batch    4/46   train_loss = 4.866\n",
      "Epoch  11 Batch   14/46   train_loss = 4.909\n",
      "Epoch  11 Batch   24/46   train_loss = 4.725\n",
      "Epoch  11 Batch   34/46   train_loss = 4.636\n",
      "Epoch  11 Batch   44/46   train_loss = 4.780\n",
      "Epoch  12 Batch    8/46   train_loss = 4.676\n",
      "Epoch  12 Batch   18/46   train_loss = 4.566\n",
      "Epoch  12 Batch   28/46   train_loss = 4.507\n",
      "Epoch  12 Batch   38/46   train_loss = 4.609\n",
      "Epoch  13 Batch    2/46   train_loss = 4.567\n",
      "Epoch  13 Batch   12/46   train_loss = 4.543\n",
      "Epoch  13 Batch   22/46   train_loss = 4.693\n",
      "Epoch  13 Batch   32/46   train_loss = 4.607\n",
      "Epoch  13 Batch   42/46   train_loss = 4.419\n",
      "Epoch  14 Batch    6/46   train_loss = 4.599\n",
      "Epoch  14 Batch   16/46   train_loss = 4.422\n",
      "Epoch  14 Batch   26/46   train_loss = 4.421\n",
      "Epoch  14 Batch   36/46   train_loss = 4.378\n",
      "Epoch  15 Batch    0/46   train_loss = 4.349\n",
      "Epoch  15 Batch   10/46   train_loss = 4.548\n",
      "Epoch  15 Batch   20/46   train_loss = 4.446\n",
      "Epoch  15 Batch   30/46   train_loss = 4.386\n",
      "Epoch  15 Batch   40/46   train_loss = 4.371\n",
      "Epoch  16 Batch    4/46   train_loss = 4.385\n",
      "Epoch  16 Batch   14/46   train_loss = 4.503\n",
      "Epoch  16 Batch   24/46   train_loss = 4.277\n",
      "Epoch  16 Batch   34/46   train_loss = 4.079\n",
      "Epoch  16 Batch   44/46   train_loss = 4.267\n",
      "Epoch  17 Batch    8/46   train_loss = 4.287\n",
      "Epoch  17 Batch   18/46   train_loss = 4.073\n",
      "Epoch  17 Batch   28/46   train_loss = 4.052\n",
      "Epoch  17 Batch   38/46   train_loss = 4.157\n",
      "Epoch  18 Batch    2/46   train_loss = 4.193\n",
      "Epoch  18 Batch   12/46   train_loss = 4.147\n",
      "Epoch  18 Batch   22/46   train_loss = 4.124\n",
      "Epoch  18 Batch   32/46   train_loss = 4.066\n",
      "Epoch  18 Batch   42/46   train_loss = 3.913\n",
      "Epoch  19 Batch    6/46   train_loss = 4.000\n",
      "Epoch  19 Batch   16/46   train_loss = 4.048\n",
      "Epoch  19 Batch   26/46   train_loss = 3.914\n",
      "Epoch  19 Batch   36/46   train_loss = 3.891\n",
      "Epoch  20 Batch    0/46   train_loss = 3.966\n",
      "Epoch  20 Batch   10/46   train_loss = 4.050\n",
      "Epoch  20 Batch   20/46   train_loss = 4.017\n",
      "Epoch  20 Batch   30/46   train_loss = 3.808\n",
      "Epoch  20 Batch   40/46   train_loss = 3.730\n",
      "Epoch  21 Batch    4/46   train_loss = 3.860\n",
      "Epoch  21 Batch   14/46   train_loss = 3.846\n",
      "Epoch  21 Batch   24/46   train_loss = 3.747\n",
      "Epoch  21 Batch   34/46   train_loss = 3.557\n",
      "Epoch  21 Batch   44/46   train_loss = 3.710\n",
      "Epoch  22 Batch    8/46   train_loss = 3.786\n",
      "Epoch  22 Batch   18/46   train_loss = 3.593\n",
      "Epoch  22 Batch   28/46   train_loss = 3.594\n",
      "Epoch  22 Batch   38/46   train_loss = 3.655\n",
      "Epoch  23 Batch    2/46   train_loss = 3.678\n",
      "Epoch  23 Batch   12/46   train_loss = 3.663\n",
      "Epoch  23 Batch   22/46   train_loss = 3.603\n",
      "Epoch  23 Batch   32/46   train_loss = 3.533\n",
      "Epoch  23 Batch   42/46   train_loss = 3.462\n",
      "Epoch  24 Batch    6/46   train_loss = 3.445\n",
      "Epoch  24 Batch   16/46   train_loss = 3.453\n",
      "Epoch  24 Batch   26/46   train_loss = 3.468\n",
      "Epoch  24 Batch   36/46   train_loss = 3.424\n",
      "Epoch  25 Batch    0/46   train_loss = 3.516\n",
      "Epoch  25 Batch   10/46   train_loss = 3.539\n",
      "Epoch  25 Batch   20/46   train_loss = 3.466\n",
      "Epoch  25 Batch   30/46   train_loss = 3.246\n",
      "Epoch  25 Batch   40/46   train_loss = 3.229\n",
      "Epoch  26 Batch    4/46   train_loss = 3.385\n",
      "Epoch  26 Batch   14/46   train_loss = 3.287\n",
      "Epoch  26 Batch   24/46   train_loss = 3.156\n",
      "Epoch  26 Batch   34/46   train_loss = 3.082\n",
      "Epoch  26 Batch   44/46   train_loss = 3.186\n",
      "Epoch  27 Batch    8/46   train_loss = 3.231\n",
      "Epoch  27 Batch   18/46   train_loss = 3.086\n",
      "Epoch  27 Batch   28/46   train_loss = 3.049\n",
      "Epoch  27 Batch   38/46   train_loss = 3.142\n",
      "Epoch  28 Batch    2/46   train_loss = 3.233\n",
      "Epoch  28 Batch   12/46   train_loss = 3.147\n",
      "Epoch  28 Batch   22/46   train_loss = 2.942\n",
      "Epoch  28 Batch   32/46   train_loss = 2.958\n",
      "Epoch  28 Batch   42/46   train_loss = 2.971\n",
      "Epoch  29 Batch    6/46   train_loss = 2.904\n",
      "Epoch  29 Batch   16/46   train_loss = 2.887\n",
      "Epoch  29 Batch   26/46   train_loss = 2.921\n",
      "Epoch  29 Batch   36/46   train_loss = 2.853\n",
      "Epoch  30 Batch    0/46   train_loss = 2.971\n",
      "Epoch  30 Batch   10/46   train_loss = 2.977\n",
      "Epoch  30 Batch   20/46   train_loss = 2.927\n",
      "Epoch  30 Batch   30/46   train_loss = 2.650\n",
      "Epoch  30 Batch   40/46   train_loss = 2.634\n",
      "Epoch  31 Batch    4/46   train_loss = 2.793\n",
      "Epoch  31 Batch   14/46   train_loss = 2.752\n",
      "Epoch  31 Batch   24/46   train_loss = 2.603\n",
      "Epoch  31 Batch   34/46   train_loss = 2.576\n",
      "Epoch  31 Batch   44/46   train_loss = 2.609\n",
      "Epoch  32 Batch    8/46   train_loss = 2.682\n",
      "Epoch  32 Batch   18/46   train_loss = 2.572\n",
      "Epoch  32 Batch   28/46   train_loss = 2.567\n",
      "Epoch  32 Batch   38/46   train_loss = 2.605\n",
      "Epoch  33 Batch    2/46   train_loss = 2.709\n",
      "Epoch  33 Batch   12/46   train_loss = 2.660\n",
      "Epoch  33 Batch   22/46   train_loss = 2.464\n",
      "Epoch  33 Batch   32/46   train_loss = 2.454\n",
      "Epoch  33 Batch   42/46   train_loss = 2.439\n",
      "Epoch  34 Batch    6/46   train_loss = 2.362\n",
      "Epoch  34 Batch   16/46   train_loss = 2.319\n",
      "Epoch  34 Batch   26/46   train_loss = 2.457\n",
      "Epoch  34 Batch   36/46   train_loss = 2.307\n",
      "Epoch  35 Batch    0/46   train_loss = 2.347\n",
      "Epoch  35 Batch   10/46   train_loss = 2.478\n",
      "Epoch  35 Batch   20/46   train_loss = 2.404\n",
      "Epoch  35 Batch   30/46   train_loss = 2.186\n",
      "Epoch  35 Batch   40/46   train_loss = 2.169\n",
      "Epoch  36 Batch    4/46   train_loss = 2.323\n",
      "Epoch  36 Batch   14/46   train_loss = 2.260\n",
      "Epoch  36 Batch   24/46   train_loss = 2.071\n",
      "Epoch  36 Batch   34/46   train_loss = 2.127\n",
      "Epoch  36 Batch   44/46   train_loss = 2.168\n",
      "Epoch  37 Batch    8/46   train_loss = 2.149\n",
      "Epoch  37 Batch   18/46   train_loss = 2.114\n",
      "Epoch  37 Batch   28/46   train_loss = 2.107\n",
      "Epoch  37 Batch   38/46   train_loss = 2.204\n",
      "Epoch  38 Batch    2/46   train_loss = 2.180\n",
      "Epoch  38 Batch   12/46   train_loss = 2.132\n",
      "Epoch  38 Batch   22/46   train_loss = 2.069\n",
      "Epoch  38 Batch   32/46   train_loss = 2.029\n",
      "Epoch  38 Batch   42/46   train_loss = 2.022\n",
      "Epoch  39 Batch    6/46   train_loss = 1.946\n",
      "Epoch  39 Batch   16/46   train_loss = 1.863\n",
      "Epoch  39 Batch   26/46   train_loss = 2.012\n",
      "Epoch  39 Batch   36/46   train_loss = 1.915\n",
      "Epoch  40 Batch    0/46   train_loss = 1.919\n",
      "Epoch  40 Batch   10/46   train_loss = 2.024\n",
      "Epoch  40 Batch   20/46   train_loss = 2.018\n",
      "Epoch  40 Batch   30/46   train_loss = 1.840\n",
      "Epoch  40 Batch   40/46   train_loss = 1.745\n",
      "Epoch  41 Batch    4/46   train_loss = 1.867\n",
      "Epoch  41 Batch   14/46   train_loss = 1.745\n",
      "Epoch  41 Batch   24/46   train_loss = 1.717\n",
      "Epoch  41 Batch   34/46   train_loss = 1.781\n",
      "Epoch  41 Batch   44/46   train_loss = 1.742\n",
      "Epoch  42 Batch    8/46   train_loss = 1.780\n",
      "Epoch  42 Batch   18/46   train_loss = 1.655\n",
      "Epoch  42 Batch   28/46   train_loss = 1.796\n",
      "Epoch  42 Batch   38/46   train_loss = 1.822\n",
      "Epoch  43 Batch    2/46   train_loss = 1.722\n",
      "Epoch  43 Batch   12/46   train_loss = 1.670\n",
      "Epoch  43 Batch   22/46   train_loss = 1.693\n",
      "Epoch  43 Batch   32/46   train_loss = 1.674\n",
      "Epoch  43 Batch   42/46   train_loss = 1.723\n",
      "Epoch  44 Batch    6/46   train_loss = 1.544\n",
      "Epoch  44 Batch   16/46   train_loss = 1.562\n",
      "Epoch  44 Batch   26/46   train_loss = 1.697\n",
      "Epoch  44 Batch   36/46   train_loss = 1.559\n",
      "Epoch  45 Batch    0/46   train_loss = 1.608\n",
      "Epoch  45 Batch   10/46   train_loss = 1.632\n",
      "Epoch  45 Batch   20/46   train_loss = 1.592\n",
      "Epoch  45 Batch   30/46   train_loss = 1.565\n",
      "Epoch  45 Batch   40/46   train_loss = 1.511\n",
      "Epoch  46 Batch    4/46   train_loss = 1.530\n",
      "Epoch  46 Batch   14/46   train_loss = 1.446\n",
      "Epoch  46 Batch   24/46   train_loss = 1.365\n",
      "Epoch  46 Batch   34/46   train_loss = 1.463\n",
      "Epoch  46 Batch   44/46   train_loss = 1.430\n",
      "Epoch  47 Batch    8/46   train_loss = 1.467\n",
      "Epoch  47 Batch   18/46   train_loss = 1.352\n",
      "Epoch  47 Batch   28/46   train_loss = 1.468\n",
      "Epoch  47 Batch   38/46   train_loss = 1.555\n",
      "Epoch  48 Batch    2/46   train_loss = 1.475\n",
      "Epoch  48 Batch   12/46   train_loss = 1.392\n",
      "Epoch  48 Batch   22/46   train_loss = 1.284\n",
      "Epoch  48 Batch   32/46   train_loss = 1.360\n",
      "Epoch  48 Batch   42/46   train_loss = 1.473\n",
      "Epoch  49 Batch    6/46   train_loss = 1.254\n",
      "Epoch  49 Batch   16/46   train_loss = 1.199\n",
      "Epoch  49 Batch   26/46   train_loss = 1.297\n",
      "Epoch  49 Batch   36/46   train_loss = 1.321\n",
      "Epoch  50 Batch    0/46   train_loss = 1.300\n",
      "Epoch  50 Batch   10/46   train_loss = 1.375\n",
      "Epoch  50 Batch   20/46   train_loss = 1.310\n",
      "Epoch  50 Batch   30/46   train_loss = 1.210\n",
      "Epoch  50 Batch   40/46   train_loss = 1.226\n",
      "Epoch  51 Batch    4/46   train_loss = 1.268\n",
      "Epoch  51 Batch   14/46   train_loss = 1.171\n",
      "Epoch  51 Batch   24/46   train_loss = 1.060\n",
      "Epoch  51 Batch   34/46   train_loss = 1.146\n",
      "Epoch  51 Batch   44/46   train_loss = 1.247\n",
      "Epoch  52 Batch    8/46   train_loss = 1.207\n",
      "Epoch  52 Batch   18/46   train_loss = 1.146\n",
      "Epoch  52 Batch   28/46   train_loss = 1.187\n",
      "Epoch  52 Batch   38/46   train_loss = 1.233\n",
      "Epoch  53 Batch    2/46   train_loss = 1.240\n",
      "Epoch  53 Batch   12/46   train_loss = 1.140\n",
      "Epoch  53 Batch   22/46   train_loss = 1.058\n",
      "Epoch  53 Batch   32/46   train_loss = 1.037\n",
      "Epoch  53 Batch   42/46   train_loss = 1.152\n",
      "Epoch  54 Batch    6/46   train_loss = 1.125\n",
      "Epoch  54 Batch   16/46   train_loss = 1.032\n",
      "Epoch  54 Batch   26/46   train_loss = 1.014\n",
      "Epoch  54 Batch   36/46   train_loss = 1.092\n",
      "Epoch  55 Batch    0/46   train_loss = 1.061\n",
      "Epoch  55 Batch   10/46   train_loss = 1.182\n",
      "Epoch  55 Batch   20/46   train_loss = 1.081\n",
      "Epoch  55 Batch   30/46   train_loss = 0.986\n",
      "Epoch  55 Batch   40/46   train_loss = 0.990\n",
      "Epoch  56 Batch    4/46   train_loss = 1.042\n",
      "Epoch  56 Batch   14/46   train_loss = 0.997\n",
      "Epoch  56 Batch   24/46   train_loss = 0.883\n",
      "Epoch  56 Batch   34/46   train_loss = 0.893\n",
      "Epoch  56 Batch   44/46   train_loss = 0.917\n",
      "Epoch  57 Batch    8/46   train_loss = 1.052\n",
      "Epoch  57 Batch   18/46   train_loss = 0.948\n",
      "Epoch  57 Batch   28/46   train_loss = 1.005\n",
      "Epoch  57 Batch   38/46   train_loss = 0.993\n",
      "Epoch  58 Batch    2/46   train_loss = 0.927\n",
      "Epoch  58 Batch   12/46   train_loss = 0.996\n",
      "Epoch  58 Batch   22/46   train_loss = 0.881\n",
      "Epoch  58 Batch   32/46   train_loss = 0.822\n",
      "Epoch  58 Batch   42/46   train_loss = 0.942\n",
      "Epoch  59 Batch    6/46   train_loss = 0.849\n",
      "Epoch  59 Batch   16/46   train_loss = 0.834\n",
      "Epoch  59 Batch   26/46   train_loss = 0.866\n",
      "Epoch  59 Batch   36/46   train_loss = 0.852\n",
      "Epoch  60 Batch    0/46   train_loss = 0.875\n",
      "Epoch  60 Batch   10/46   train_loss = 0.929\n",
      "Epoch  60 Batch   20/46   train_loss = 0.914\n",
      "Epoch  60 Batch   30/46   train_loss = 0.796\n",
      "Epoch  60 Batch   40/46   train_loss = 0.785\n",
      "Epoch  61 Batch    4/46   train_loss = 0.852\n",
      "Epoch  61 Batch   14/46   train_loss = 0.816\n",
      "Epoch  61 Batch   24/46   train_loss = 0.723\n",
      "Epoch  61 Batch   34/46   train_loss = 0.719\n",
      "Epoch  61 Batch   44/46   train_loss = 0.765\n",
      "Epoch  62 Batch    8/46   train_loss = 0.784\n",
      "Epoch  62 Batch   18/46   train_loss = 0.773\n",
      "Epoch  62 Batch   28/46   train_loss = 0.811\n",
      "Epoch  62 Batch   38/46   train_loss = 0.761\n",
      "Epoch  63 Batch    2/46   train_loss = 0.715\n",
      "Epoch  63 Batch   12/46   train_loss = 0.782\n",
      "Epoch  63 Batch   22/46   train_loss = 0.740\n",
      "Epoch  63 Batch   32/46   train_loss = 0.658\n",
      "Epoch  63 Batch   42/46   train_loss = 0.720\n",
      "Epoch  64 Batch    6/46   train_loss = 0.710\n",
      "Epoch  64 Batch   16/46   train_loss = 0.643\n",
      "Epoch  64 Batch   26/46   train_loss = 0.678\n",
      "Epoch  64 Batch   36/46   train_loss = 0.667\n",
      "Epoch  65 Batch    0/46   train_loss = 0.703\n",
      "Epoch  65 Batch   10/46   train_loss = 0.761\n",
      "Epoch  65 Batch   20/46   train_loss = 0.728\n",
      "Epoch  65 Batch   30/46   train_loss = 0.702\n",
      "Epoch  65 Batch   40/46   train_loss = 0.609\n",
      "Epoch  66 Batch    4/46   train_loss = 0.637\n",
      "Epoch  66 Batch   14/46   train_loss = 0.626\n",
      "Epoch  66 Batch   24/46   train_loss = 0.602\n",
      "Epoch  66 Batch   34/46   train_loss = 0.619\n",
      "Epoch  66 Batch   44/46   train_loss = 0.621\n",
      "Epoch  67 Batch    8/46   train_loss = 0.671\n",
      "Epoch  67 Batch   18/46   train_loss = 0.665\n",
      "Epoch  67 Batch   28/46   train_loss = 0.723\n",
      "Epoch  67 Batch   38/46   train_loss = 0.668\n",
      "Epoch  68 Batch    2/46   train_loss = 0.554\n",
      "Epoch  68 Batch   12/46   train_loss = 0.613\n",
      "Epoch  68 Batch   22/46   train_loss = 0.597\n",
      "Epoch  68 Batch   32/46   train_loss = 0.565\n",
      "Epoch  68 Batch   42/46   train_loss = 0.630\n",
      "Epoch  69 Batch    6/46   train_loss = 0.608\n",
      "Epoch  69 Batch   16/46   train_loss = 0.595\n",
      "Epoch  69 Batch   26/46   train_loss = 0.597\n",
      "Epoch  69 Batch   36/46   train_loss = 0.571\n",
      "Epoch  70 Batch    0/46   train_loss = 0.553\n",
      "Epoch  70 Batch   10/46   train_loss = 0.577\n",
      "Epoch  70 Batch   20/46   train_loss = 0.634\n",
      "Epoch  70 Batch   30/46   train_loss = 0.570\n",
      "Epoch  70 Batch   40/46   train_loss = 0.554\n",
      "Epoch  71 Batch    4/46   train_loss = 0.565\n",
      "Epoch  71 Batch   14/46   train_loss = 0.552\n",
      "Epoch  71 Batch   24/46   train_loss = 0.519\n",
      "Epoch  71 Batch   34/46   train_loss = 0.502\n",
      "Epoch  71 Batch   44/46   train_loss = 0.505\n",
      "Epoch  72 Batch    8/46   train_loss = 0.556\n",
      "Epoch  72 Batch   18/46   train_loss = 0.531\n",
      "Epoch  72 Batch   28/46   train_loss = 0.574\n",
      "Epoch  72 Batch   38/46   train_loss = 0.558\n",
      "Epoch  73 Batch    2/46   train_loss = 0.531\n",
      "Epoch  73 Batch   12/46   train_loss = 0.521\n",
      "Epoch  73 Batch   22/46   train_loss = 0.540\n",
      "Epoch  73 Batch   32/46   train_loss = 0.510\n",
      "Epoch  73 Batch   42/46   train_loss = 0.537\n",
      "Epoch  74 Batch    6/46   train_loss = 0.502\n",
      "Epoch  74 Batch   16/46   train_loss = 0.460\n",
      "Epoch  74 Batch   26/46   train_loss = 0.523\n",
      "Epoch  74 Batch   36/46   train_loss = 0.464\n",
      "Epoch  75 Batch    0/46   train_loss = 0.527\n",
      "Epoch  75 Batch   10/46   train_loss = 0.500\n",
      "Epoch  75 Batch   20/46   train_loss = 0.525\n",
      "Epoch  75 Batch   30/46   train_loss = 0.523\n",
      "Epoch  75 Batch   40/46   train_loss = 0.468\n",
      "Epoch  76 Batch    4/46   train_loss = 0.483\n",
      "Epoch  76 Batch   14/46   train_loss = 0.434\n",
      "Epoch  76 Batch   24/46   train_loss = 0.431\n",
      "Epoch  76 Batch   34/46   train_loss = 0.464\n",
      "Epoch  76 Batch   44/46   train_loss = 0.449\n",
      "Epoch  77 Batch    8/46   train_loss = 0.491\n",
      "Epoch  77 Batch   18/46   train_loss = 0.443\n",
      "Epoch  77 Batch   28/46   train_loss = 0.529\n",
      "Epoch  77 Batch   38/46   train_loss = 0.494\n",
      "Epoch  78 Batch    2/46   train_loss = 0.448\n",
      "Epoch  78 Batch   12/46   train_loss = 0.473\n",
      "Epoch  78 Batch   22/46   train_loss = 0.477\n",
      "Epoch  78 Batch   32/46   train_loss = 0.461\n",
      "Epoch  78 Batch   42/46   train_loss = 0.498\n",
      "Epoch  79 Batch    6/46   train_loss = 0.471\n",
      "Epoch  79 Batch   16/46   train_loss = 0.458\n",
      "Epoch  79 Batch   26/46   train_loss = 0.443\n",
      "Epoch  79 Batch   36/46   train_loss = 0.437\n",
      "Epoch  80 Batch    0/46   train_loss = 0.449\n",
      "Epoch  80 Batch   10/46   train_loss = 0.462\n",
      "Epoch  80 Batch   20/46   train_loss = 0.485\n",
      "Epoch  80 Batch   30/46   train_loss = 0.432\n",
      "Epoch  80 Batch   40/46   train_loss = 0.440\n",
      "Epoch  81 Batch    4/46   train_loss = 0.455\n",
      "Epoch  81 Batch   14/46   train_loss = 0.465\n",
      "Epoch  81 Batch   24/46   train_loss = 0.399\n",
      "Epoch  81 Batch   34/46   train_loss = 0.410\n",
      "Epoch  81 Batch   44/46   train_loss = 0.424\n",
      "Epoch  82 Batch    8/46   train_loss = 0.456\n",
      "Epoch  82 Batch   18/46   train_loss = 0.408\n",
      "Epoch  82 Batch   28/46   train_loss = 0.469\n",
      "Epoch  82 Batch   38/46   train_loss = 0.459\n",
      "Epoch  83 Batch    2/46   train_loss = 0.442\n",
      "Epoch  83 Batch   12/46   train_loss = 0.416\n",
      "Epoch  83 Batch   22/46   train_loss = 0.413\n",
      "Epoch  83 Batch   32/46   train_loss = 0.402\n",
      "Epoch  83 Batch   42/46   train_loss = 0.445\n",
      "Epoch  84 Batch    6/46   train_loss = 0.451\n",
      "Epoch  84 Batch   16/46   train_loss = 0.409\n",
      "Epoch  84 Batch   26/46   train_loss = 0.413\n",
      "Epoch  84 Batch   36/46   train_loss = 0.424\n",
      "Epoch  85 Batch    0/46   train_loss = 0.475\n",
      "Epoch  85 Batch   10/46   train_loss = 0.460\n",
      "Epoch  85 Batch   20/46   train_loss = 0.464\n",
      "Epoch  85 Batch   30/46   train_loss = 0.438\n",
      "Epoch  85 Batch   40/46   train_loss = 0.408\n",
      "Epoch  86 Batch    4/46   train_loss = 0.458\n",
      "Epoch  86 Batch   14/46   train_loss = 0.415\n",
      "Epoch  86 Batch   24/46   train_loss = 0.396\n",
      "Epoch  86 Batch   34/46   train_loss = 0.382\n",
      "Epoch  86 Batch   44/46   train_loss = 0.404\n",
      "Epoch  87 Batch    8/46   train_loss = 0.462\n",
      "Epoch  87 Batch   18/46   train_loss = 0.392\n",
      "Epoch  87 Batch   28/46   train_loss = 0.462\n",
      "Epoch  87 Batch   38/46   train_loss = 0.429\n",
      "Epoch  88 Batch    2/46   train_loss = 0.428\n",
      "Epoch  88 Batch   12/46   train_loss = 0.402\n",
      "Epoch  88 Batch   22/46   train_loss = 0.418\n",
      "Epoch  88 Batch   32/46   train_loss = 0.407\n",
      "Epoch  88 Batch   42/46   train_loss = 0.424\n",
      "Epoch  89 Batch    6/46   train_loss = 0.434\n",
      "Epoch  89 Batch   16/46   train_loss = 0.398\n",
      "Epoch  89 Batch   26/46   train_loss = 0.398\n",
      "Epoch  89 Batch   36/46   train_loss = 0.399\n",
      "Epoch  90 Batch    0/46   train_loss = 0.459\n",
      "Epoch  90 Batch   10/46   train_loss = 0.424\n",
      "Epoch  90 Batch   20/46   train_loss = 0.448\n",
      "Epoch  90 Batch   30/46   train_loss = 0.397\n",
      "Epoch  90 Batch   40/46   train_loss = 0.414\n",
      "Epoch  91 Batch    4/46   train_loss = 0.406\n",
      "Epoch  91 Batch   14/46   train_loss = 0.398\n",
      "Epoch  91 Batch   24/46   train_loss = 0.385\n",
      "Epoch  91 Batch   34/46   train_loss = 0.385\n",
      "Epoch  91 Batch   44/46   train_loss = 0.417\n",
      "Epoch  92 Batch    8/46   train_loss = 0.413\n",
      "Epoch  92 Batch   18/46   train_loss = 0.400\n",
      "Epoch  92 Batch   28/46   train_loss = 0.434\n",
      "Epoch  92 Batch   38/46   train_loss = 0.429\n",
      "Epoch  93 Batch    2/46   train_loss = 0.400\n",
      "Epoch  93 Batch   12/46   train_loss = 0.403\n",
      "Epoch  93 Batch   22/46   train_loss = 0.405\n",
      "Epoch  93 Batch   32/46   train_loss = 0.381\n",
      "Epoch  93 Batch   42/46   train_loss = 0.430\n",
      "Epoch  94 Batch    6/46   train_loss = 0.430\n",
      "Epoch  94 Batch   16/46   train_loss = 0.426\n",
      "Epoch  94 Batch   26/46   train_loss = 0.350\n",
      "Epoch  94 Batch   36/46   train_loss = 0.369\n",
      "Epoch  95 Batch    0/46   train_loss = 0.405\n",
      "Epoch  95 Batch   10/46   train_loss = 0.422\n",
      "Epoch  95 Batch   20/46   train_loss = 0.431\n",
      "Epoch  95 Batch   30/46   train_loss = 0.431\n",
      "Epoch  95 Batch   40/46   train_loss = 0.410\n",
      "Epoch  96 Batch    4/46   train_loss = 0.381\n",
      "Epoch  96 Batch   14/46   train_loss = 0.380\n",
      "Epoch  96 Batch   24/46   train_loss = 0.372\n",
      "Epoch  96 Batch   34/46   train_loss = 0.362\n",
      "Epoch  96 Batch   44/46   train_loss = 0.363\n",
      "Epoch  97 Batch    8/46   train_loss = 0.401\n",
      "Epoch  97 Batch   18/46   train_loss = 0.375\n",
      "Epoch  97 Batch   28/46   train_loss = 0.382\n",
      "Epoch  97 Batch   38/46   train_loss = 0.366\n",
      "Epoch  98 Batch    2/46   train_loss = 0.392\n",
      "Epoch  98 Batch   12/46   train_loss = 0.381\n",
      "Epoch  98 Batch   22/46   train_loss = 0.416\n",
      "Epoch  98 Batch   32/46   train_loss = 0.369\n",
      "Epoch  98 Batch   42/46   train_loss = 0.401\n",
      "Epoch  99 Batch    6/46   train_loss = 0.411\n",
      "Epoch  99 Batch   16/46   train_loss = 0.392\n",
      "Epoch  99 Batch   26/46   train_loss = 0.388\n",
      "Epoch  99 Batch   36/46   train_loss = 0.370\n",
      "Model Trained and Saved\n"
     ]
    }
   ],
   "source": [
    "\"\"\"\n",
    "DON'T MODIFY ANYTHING IN THIS CELL\n",
    "\"\"\"\n",
    "batches = get_batches(int_text, batch_size, seq_length)\n",
    "\n",
    "with tf.Session(graph=train_graph) as sess:\n",
    "    sess.run(tf.global_variables_initializer())\n",
    "\n",
    "    for epoch_i in range(num_epochs):\n",
    "        state = sess.run(initial_state, {input_text: batches[0][0]})\n",
    "\n",
    "        for batch_i, (x, y) in enumerate(batches):\n",
    "            feed = {\n",
    "                input_text: x,\n",
    "                targets: y,\n",
    "                initial_state: state,\n",
    "                lr: learning_rate}\n",
    "            train_loss, state, _ = sess.run([cost, final_state, train_op], feed)\n",
    "\n",
    "            # Show every <show_every_n_batches> batches\n",
    "            if (epoch_i * len(batches) + batch_i) % show_every_n_batches == 0:\n",
    "                print('Epoch {:>3} Batch {:>4}/{}   train_loss = {:.3f}'.format(\n",
    "                    epoch_i,\n",
    "                    batch_i,\n",
    "                    len(batches),\n",
    "                    train_loss))\n",
    "\n",
    "    # Save Model\n",
    "    saver = tf.train.Saver()\n",
    "    saver.save(sess, save_dir)\n",
    "    print('Model Trained and Saved')"
   ]
  },
  {
   "cell_type": "markdown",
   "metadata": {
    "deletable": true,
    "editable": true
   },
   "source": [
    "## Save Parameters\n",
    "Save `seq_length` and `save_dir` for generating a new TV script."
   ]
  },
  {
   "cell_type": "code",
   "execution_count": 67,
   "metadata": {
    "collapsed": false,
    "deletable": true,
    "editable": true
   },
   "outputs": [],
   "source": [
    "\"\"\"\n",
    "DON'T MODIFY ANYTHING IN THIS CELL\n",
    "\"\"\"\n",
    "# Save parameters for checkpoint\n",
    "helper.save_params((seq_length, save_dir))"
   ]
  },
  {
   "cell_type": "markdown",
   "metadata": {
    "deletable": true,
    "editable": true
   },
   "source": [
    "# Checkpoint"
   ]
  },
  {
   "cell_type": "code",
   "execution_count": 68,
   "metadata": {
    "collapsed": false,
    "deletable": true,
    "editable": true
   },
   "outputs": [],
   "source": [
    "\"\"\"\n",
    "DON'T MODIFY ANYTHING IN THIS CELL\n",
    "\"\"\"\n",
    "import tensorflow as tf\n",
    "import numpy as np\n",
    "import helper\n",
    "import problem_unittests as tests\n",
    "\n",
    "_, vocab_to_int, int_to_vocab, token_dict = helper.load_preprocess()\n",
    "seq_length, load_dir = helper.load_params()"
   ]
  },
  {
   "cell_type": "markdown",
   "metadata": {
    "deletable": true,
    "editable": true
   },
   "source": [
    "## Implement Generate Functions\n",
    "### Get Tensors\n",
    "Get tensors from `loaded_graph` using the function [`get_tensor_by_name()`](https://www.tensorflow.org/api_docs/python/tf/Graph#get_tensor_by_name).  Get the tensors using the following names:\n",
    "- \"input:0\"\n",
    "- \"initial_state:0\"\n",
    "- \"final_state:0\"\n",
    "- \"probs:0\"\n",
    "\n",
    "Return the tensors in the following tuple `(InputTensor, InitialStateTensor, FinalStateTensor, ProbsTensor)` "
   ]
  },
  {
   "cell_type": "code",
   "execution_count": 70,
   "metadata": {
    "collapsed": false,
    "deletable": true,
    "editable": true
   },
   "outputs": [
    {
     "name": "stdout",
     "output_type": "stream",
     "text": [
      "Tests Passed\n"
     ]
    }
   ],
   "source": [
    "def get_tensors(loaded_graph):\n",
    "    \"\"\"\n",
    "    Get input, initial state, final state, and probabilities tensor from <loaded_graph>\n",
    "    :param loaded_graph: TensorFlow graph loaded from file\n",
    "    :return: Tuple (InputTensor, InitialStateTensor, FinalStateTensor, ProbsTensor)\n",
    "    \"\"\"\n",
    "    # TODO: Implement Function\n",
    "    InputTensor = loaded_graph.get_tensor_by_name(\"input:0\")\n",
    "    InitialStateTensor = loaded_graph.get_tensor_by_name(\"initial_state:0\")\n",
    "    FinalStateTensor = loaded_graph.get_tensor_by_name(\"final_state:0\")\n",
    "    ProbsTensor = loaded_graph.get_tensor_by_name(\"probs:0\")\n",
    "\n",
    "    return(InputTensor, InitialStateTensor, FinalStateTensor, ProbsTensor)\n",
    "\n",
    "\n",
    "\"\"\"\n",
    "DON'T MODIFY ANYTHING IN THIS CELL THAT IS BELOW THIS LINE\n",
    "\"\"\"\n",
    "tests.test_get_tensors(get_tensors)"
   ]
  },
  {
   "cell_type": "markdown",
   "metadata": {
    "deletable": true,
    "editable": true
   },
   "source": [
    "### Choose Word\n",
    "Implement the `pick_word()` function to select the next word using `probabilities`."
   ]
  },
  {
   "cell_type": "code",
   "execution_count": 71,
   "metadata": {
    "collapsed": false,
    "deletable": true,
    "editable": true
   },
   "outputs": [
    {
     "name": "stdout",
     "output_type": "stream",
     "text": [
      "Tests Passed\n"
     ]
    }
   ],
   "source": [
    "def pick_word(probabilities, int_to_vocab):\n",
    "    \"\"\"\n",
    "    Pick the next word in the generated text\n",
    "    :param probabilities: Probabilites of the next word\n",
    "    :param int_to_vocab: Dictionary of word ids as the keys and words as the values\n",
    "    :return: String of the predicted word\n",
    "    \"\"\"\n",
    "    # TODO: Implement Function\n",
    "    return np.random.choice(list(int_to_vocab.values()), 1, p=probabilities)[0]\n",
    "\n",
    "\n",
    "\"\"\"\n",
    "DON'T MODIFY ANYTHING IN THIS CELL THAT IS BELOW THIS LINE\n",
    "\"\"\"\n",
    "tests.test_pick_word(pick_word)"
   ]
  },
  {
   "cell_type": "markdown",
   "metadata": {
    "deletable": true,
    "editable": true
   },
   "source": [
    "## Generate TV Script\n",
    "This will generate the TV script for you.  Set `gen_length` to the length of TV script you want to generate."
   ]
  },
  {
   "cell_type": "code",
   "execution_count": 73,
   "metadata": {
    "collapsed": false,
    "deletable": true,
    "editable": true
   },
   "outputs": [
    {
     "name": "stdout",
     "output_type": "stream",
     "text": [
      "moe_szyslak:(defeated) ooh, hey! is that, ralphie? that plank's only choice and i've showered her with 'em stupid better than duff.\n",
      "carl_carlson: aw, we've never woulda never does a cab.\n",
      "lenny_leonard: to you, it like a cab.\n",
      "moe_szyslak: you cleaned this a hot in my friends.\n",
      "homer_simpson:(clears throat) it all the scam. without 'em play. i. i will. home, gentlemen. we got the\" flaming moe...\n",
      "homer_simpson: this was you...\n",
      "moe_szyslak: you! we're wasting your time we get out an awful dilemma. should i just the the guy) this car is i just got a new guy?\n",
      "moe_szyslak:(too late-- no. oh, where you make us like, but homer?\n",
      "moe_szyslak: it's a good thing i ever ever heard of a drink?!(hello. i, homer, and a nation on the wrong thing good for that school.\n",
      "moe_szyslak:(quietly to self) edna-- okay now it, done to get my it.\n",
      "moe_szyslak: okay, but a guy. we can get back at the house of a guy.\n",
      "moe_szyslak: yeah, but i can't stand back, buddy. you too late, eh, well i'm the new guy with man: eh?... had an i shouldn't don't.\n",
      "moe_szyslak: let's give a tinklin' contest i'm going out of here.\n",
      "homer_simpson:(tipsy) troy? you're this website got this...\n",
      "marge_simpson: homer... here's to you.\n",
      "moe_szyslak:(chuckles after to god! huh?\n",
      "\n",
      "\n",
      "moe_szyslak: oh, is that boy?\n",
      "lisa_simpson:(a bad! homer, i guess you're not? i think you're just gonna it.(i used to be my best friend.\n",
      "moe_szyslak:(to book) no girl wants to do something in a while.\n",
      "moe_szyslak: ah,....... can i make it up...(looking at watch) oh?\n",
      "moe_szyslak: okay, you...\n",
      "moe_szyslak:(cutting up) it is already makin' a bar rag.(into phone) what about if you so? i never watched you mean you than this, but, moe?\n",
      "moe_szyslak:(that guy i love that ever cries, when be\" up down)\n",
      "kent_brockman: i got.\" being have not...\n",
      "moe_szyslak:(walking up) all right, it's over the old sugar-me-do. my place is guy be lisa.\n",
      "homer_simpson: alright, look at her the woman, now i see my blood\n"
     ]
    }
   ],
   "source": [
    "gen_length = 500\n",
    "# homer_simpson, moe_szyslak, or Barney_Gumble\n",
    "prime_word = 'moe_szyslak'\n",
    "\n",
    "\"\"\"\n",
    "DON'T MODIFY ANYTHING IN THIS CELL THAT IS BELOW THIS LINE\n",
    "\"\"\"\n",
    "loaded_graph = tf.Graph()\n",
    "with tf.Session(graph=loaded_graph) as sess:\n",
    "    # Load saved model\n",
    "    loader = tf.train.import_meta_graph(load_dir + '.meta')\n",
    "    loader.restore(sess, load_dir)\n",
    "\n",
    "    # Get Tensors from loaded model\n",
    "    input_text, initial_state, final_state, probs = get_tensors(loaded_graph)\n",
    "\n",
    "    # Sentences generation setup\n",
    "    gen_sentences = [prime_word + ':']\n",
    "    prev_state = sess.run(initial_state, {input_text: np.array([[1]])})\n",
    "\n",
    "    # Generate sentences\n",
    "    for n in range(gen_length):\n",
    "        # Dynamic Input\n",
    "        dyn_input = [[vocab_to_int[word] for word in gen_sentences[-seq_length:]]]\n",
    "        dyn_seq_length = len(dyn_input[0])\n",
    "\n",
    "        # Get Prediction\n",
    "        probabilities, prev_state = sess.run(\n",
    "            [probs, final_state],\n",
    "            {input_text: dyn_input, initial_state: prev_state})\n",
    "        \n",
    "        pred_word = pick_word(probabilities[dyn_seq_length-1], int_to_vocab)\n",
    "\n",
    "        gen_sentences.append(pred_word)\n",
    "    \n",
    "    # Remove tokens\n",
    "    tv_script = ' '.join(gen_sentences)\n",
    "    for key, token in token_dict.items():\n",
    "        ending = ' ' if key in ['\\n', '(', '\"'] else ''\n",
    "        tv_script = tv_script.replace(' ' + token.lower(), key)\n",
    "    tv_script = tv_script.replace('\\n ', '\\n')\n",
    "    tv_script = tv_script.replace('( ', '(')\n",
    "        \n",
    "    print(tv_script)"
   ]
  },
  {
   "cell_type": "markdown",
   "metadata": {
    "deletable": true,
    "editable": true
   },
   "source": [
    "# The TV Script is Nonsensical\n",
    "It's ok if the TV script doesn't make any sense.  We trained on less than a megabyte of text.  In order to get good results, you'll have to use a smaller vocabulary or get more data.  Luckly there's more data!  As we mentioned in the begging of this project, this is a subset of [another dataset](https://www.kaggle.com/wcukierski/the-simpsons-by-the-data).  We didn't have you train on all the data, because that would take too long.  However, you are free to train your neural network on all the data.  After you complete the project, of course.\n",
    "# Submitting This Project\n",
    "When submitting this project, make sure to run all the cells before saving the notebook. Save the notebook file as \"dlnd_tv_script_generation.ipynb\" and save it as a HTML file under \"File\" -> \"Download as\". Include the \"helper.py\" and \"problem_unittests.py\" files in your submission."
   ]
  }
 ],
 "metadata": {
  "anaconda-cloud": {},
  "kernelspec": {
   "display_name": "Python 3",
   "language": "python",
   "name": "python3"
  },
  "language_info": {
   "codemirror_mode": {
    "name": "ipython",
    "version": 3
   },
   "file_extension": ".py",
   "mimetype": "text/x-python",
   "name": "python",
   "nbconvert_exporter": "python",
   "pygments_lexer": "ipython3",
   "version": "3.5.2"
  },
  "widgets": {
   "state": {},
   "version": "1.1.2"
  }
 },
 "nbformat": 4,
 "nbformat_minor": 0
}
